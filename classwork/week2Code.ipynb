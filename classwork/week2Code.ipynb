{
 "cells": [
  {
   "cell_type": "code",
   "execution_count": 38,
   "metadata": {},
   "outputs": [
    {
     "name": "stdout",
     "output_type": "stream",
     "text": [
      "[75, 65, 94]\n"
     ]
    }
   ],
   "source": [
    "studentGrades = { 123: {\"Assignments\" : [75, 65, 94], \n",
    "                        \"Quizzes\": [95, 82], \n",
    "                        \"Project\" :87}, \n",
    "                456: {\"Assignments\" : [100, 100, 0],\n",
    "                      \"Quizzes\"\n",
    "                      : [96, 87],\n",
    "                      \"Project\" : 67}}\n",
    "print(studentGrades[123][\"Assignments\"])"
   ]
  },
  {
   "cell_type": "code",
   "execution_count": 39,
   "metadata": {},
   "outputs": [
    {
     "name": "stdout",
     "output_type": "stream",
     "text": [
      "Student ID: 123 Final Grade: 86.05\n",
      "Student ID: 456 Final Grade: 88.39999999999999\n"
     ]
    }
   ],
   "source": [
    "for student in studentGrades:\n",
    "    # assignment grade choose top 2 out of 3\n",
    "    studentGrades[student][\"Assignments\"].sort()\n",
    "    # print(studentGrades[student][\"Assignments\"])\n",
    "    studentGrades[student][\"Assignments\"].pop(0)\n",
    "    # print(studentGrades[student][\"Assignments\"])\n",
    "    # calculate\n",
    "    Assignment_grade = sum(studentGrades[student][\"Assignments\"]) / 2\n",
    "    Quizzes_grade = sum(studentGrades[student][\"Quizzes\"]) / 2\n",
    "    Project_grade = studentGrades[student][\"Project\"]\n",
    "    final_grade = (Assignment_grade * .5) + (Quizzes_grade * .2) + (Project_grade * .3)\n",
    "    print(\"Student ID:\", student, \"Final Grade:\", final_grade)\n"
   ]
  },
  {
   "cell_type": "code",
   "execution_count": 44,
   "metadata": {},
   "outputs": [
    {
     "name": "stdout",
     "output_type": "stream",
     "text": [
      "380\n"
     ]
    }
   ],
   "source": [
    "x = 20\n",
    "# factorial of x\n",
    "for i in range(0, x):\n",
    "    y = x * (x - 1)\n",
    "\n",
    "print(y)"
   ]
  },
  {
   "cell_type": "code",
   "execution_count": 43,
   "metadata": {},
   "outputs": [
    {
     "name": "stdout",
     "output_type": "stream",
     "text": [
      "68735\n"
     ]
    }
   ],
   "source": [
    "val = 53786\n",
    "# reverse the number\n",
    "reverse = 0\n",
    "while val > 0:\n",
    "    remainder = val % 10\n",
    "    reverse = (reverse * 10) + remainder\n",
    "    val = val // 10\n",
    "    # print(val)\n",
    "\n",
    "print(reverse)"
   ]
  },
  {
   "cell_type": "markdown",
   "metadata": {},
   "source": []
  }
 ],
 "metadata": {
  "kernelspec": {
   "display_name": "Python 3",
   "language": "python",
   "name": "python3"
  },
  "language_info": {
   "codemirror_mode": {
    "name": "ipython",
    "version": 3
   },
   "file_extension": ".py",
   "mimetype": "text/x-python",
   "name": "python",
   "nbconvert_exporter": "python",
   "pygments_lexer": "ipython3",
   "version": "3.12.8"
  }
 },
 "nbformat": 4,
 "nbformat_minor": 2
}
